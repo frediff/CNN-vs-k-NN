{
 "cells": [
  {
   "cell_type": "code",
   "execution_count": 1,
   "metadata": {},
   "outputs": [
    {
     "name": "stdout",
     "output_type": "stream",
     "text": [
      "setup done at 2022-02-07 21:38:13.081446\n"
     ]
    }
   ],
   "source": [
    "import matplotlib.pyplot as plt, pandas as pd, seaborn as sns , math\n",
    "from sklearn.metrics import accuracy_score\n",
    "from sklearn.model_selection import train_test_split\n",
    "from sklearn.preprocessing import StandardScaler\n",
    "from datetime import datetime\n",
    "from numpy import log, dot, e\n",
    "from numpy.random import rand\n",
    "print(f\"setup done at {datetime.now()}\")"
   ]
  },
  {
   "cell_type": "code",
   "execution_count": 2,
   "metadata": {},
   "outputs": [],
   "source": [
    "class LogisticRegressionScratch:\n",
    "    \n",
    "    def sigmoid(self, z): \n",
    "        return 1 / (1 + e**(-z))\n",
    "    \n",
    "    def cost_function(self, X, y, weights):                 \n",
    "        z = dot(X, weights)\n",
    "        predict_1 = y * log(self.sigmoid(z))\n",
    "        predict_0 = (1 - y) * log(1 - self.sigmoid(z))\n",
    "        return -sum(predict_1 + predict_0) / len(X)\n",
    "    \n",
    "    def fit(self, X, y, iter, lr):        \n",
    "        loss = []\n",
    "        weights = rand(X.shape[1])\n",
    "        N = len(X) \n",
    "        for i in range(iter):\n",
    "            y_hat = self.sigmoid(dot(X, weights))\n",
    "            weights -= lr * dot(X.T,  y_hat - y) / N\n",
    "            loss.append(self.cost_function(X, y, weights)) \n",
    "            \n",
    "        self.weights = weights\n",
    "        self.loss = loss\n",
    "    \n",
    "    def predict(self, X):       \n",
    "        z = dot(X, self.weights)\n",
    "        return [1 if i > 0.5 else 0 for i in self.sigmoid(z)]"
   ]
  },
  {
   "cell_type": "code",
   "execution_count": 3,
   "metadata": {},
   "outputs": [
    {
     "name": "stdout",
     "output_type": "stream",
     "text": [
      "(64, 19) (64,) \n",
      " (8, 19) (8,)\n"
     ]
    }
   ],
   "source": [
    "data = pd.read_csv(\"sobar-72.csv\")\n",
    "X = data.iloc[:,:-1]\n",
    "scaler = StandardScaler()  \n",
    "X = scaler.fit_transform(X)\n",
    "y = data.iloc[:,-1]\n",
    "X_train, X_test , y_train , y_test = train_test_split(X,y,test_size=0.1,random_state=1)\n",
    "# assert all((X_train.columns) == (X_test.columns))\n",
    "print(X_train.shape,y_train.shape,\"\\n\",X_test.shape,y_test.shape)"
   ]
  },
  {
   "cell_type": "code",
   "execution_count": 4,
   "metadata": {},
   "outputs": [
    {
     "data": {
      "text/html": [
       "<div>\n",
       "<style scoped>\n",
       "    .dataframe tbody tr th:only-of-type {\n",
       "        vertical-align: middle;\n",
       "    }\n",
       "\n",
       "    .dataframe tbody tr th {\n",
       "        vertical-align: top;\n",
       "    }\n",
       "\n",
       "    .dataframe thead th {\n",
       "        text-align: right;\n",
       "    }\n",
       "</style>\n",
       "<table border=\"1\" class=\"dataframe\">\n",
       "  <thead>\n",
       "    <tr style=\"text-align: right;\">\n",
       "      <th></th>\n",
       "      <th>behavior_sexualRisk</th>\n",
       "      <th>behavior_eating</th>\n",
       "      <th>behavior_personalHygine</th>\n",
       "      <th>intention_aggregation</th>\n",
       "      <th>intention_commitment</th>\n",
       "      <th>attitude_consistency</th>\n",
       "      <th>attitude_spontaneity</th>\n",
       "      <th>norm_significantPerson</th>\n",
       "      <th>norm_fulfillment</th>\n",
       "      <th>perception_vulnerability</th>\n",
       "      <th>perception_severity</th>\n",
       "      <th>motivation_strength</th>\n",
       "      <th>motivation_willingness</th>\n",
       "      <th>socialSupport_emotionality</th>\n",
       "      <th>socialSupport_appreciation</th>\n",
       "      <th>socialSupport_instrumental</th>\n",
       "      <th>empowerment_knowledge</th>\n",
       "      <th>empowerment_abilities</th>\n",
       "      <th>empowerment_desires</th>\n",
       "      <th>ca_cervix</th>\n",
       "    </tr>\n",
       "  </thead>\n",
       "  <tbody>\n",
       "    <tr>\n",
       "      <th>0</th>\n",
       "      <td>10</td>\n",
       "      <td>13</td>\n",
       "      <td>12</td>\n",
       "      <td>4</td>\n",
       "      <td>7</td>\n",
       "      <td>9</td>\n",
       "      <td>10</td>\n",
       "      <td>1</td>\n",
       "      <td>8</td>\n",
       "      <td>7</td>\n",
       "      <td>3</td>\n",
       "      <td>14</td>\n",
       "      <td>8</td>\n",
       "      <td>5</td>\n",
       "      <td>7</td>\n",
       "      <td>12</td>\n",
       "      <td>12</td>\n",
       "      <td>11</td>\n",
       "      <td>8</td>\n",
       "      <td>1</td>\n",
       "    </tr>\n",
       "    <tr>\n",
       "      <th>1</th>\n",
       "      <td>10</td>\n",
       "      <td>11</td>\n",
       "      <td>11</td>\n",
       "      <td>10</td>\n",
       "      <td>14</td>\n",
       "      <td>7</td>\n",
       "      <td>7</td>\n",
       "      <td>5</td>\n",
       "      <td>5</td>\n",
       "      <td>4</td>\n",
       "      <td>2</td>\n",
       "      <td>15</td>\n",
       "      <td>13</td>\n",
       "      <td>7</td>\n",
       "      <td>6</td>\n",
       "      <td>5</td>\n",
       "      <td>5</td>\n",
       "      <td>4</td>\n",
       "      <td>4</td>\n",
       "      <td>1</td>\n",
       "    </tr>\n",
       "    <tr>\n",
       "      <th>2</th>\n",
       "      <td>10</td>\n",
       "      <td>15</td>\n",
       "      <td>3</td>\n",
       "      <td>2</td>\n",
       "      <td>14</td>\n",
       "      <td>8</td>\n",
       "      <td>10</td>\n",
       "      <td>1</td>\n",
       "      <td>4</td>\n",
       "      <td>7</td>\n",
       "      <td>2</td>\n",
       "      <td>7</td>\n",
       "      <td>3</td>\n",
       "      <td>3</td>\n",
       "      <td>6</td>\n",
       "      <td>11</td>\n",
       "      <td>3</td>\n",
       "      <td>3</td>\n",
       "      <td>15</td>\n",
       "      <td>1</td>\n",
       "    </tr>\n",
       "    <tr>\n",
       "      <th>3</th>\n",
       "      <td>10</td>\n",
       "      <td>11</td>\n",
       "      <td>10</td>\n",
       "      <td>10</td>\n",
       "      <td>15</td>\n",
       "      <td>7</td>\n",
       "      <td>7</td>\n",
       "      <td>1</td>\n",
       "      <td>5</td>\n",
       "      <td>4</td>\n",
       "      <td>2</td>\n",
       "      <td>15</td>\n",
       "      <td>13</td>\n",
       "      <td>7</td>\n",
       "      <td>4</td>\n",
       "      <td>4</td>\n",
       "      <td>4</td>\n",
       "      <td>4</td>\n",
       "      <td>4</td>\n",
       "      <td>1</td>\n",
       "    </tr>\n",
       "    <tr>\n",
       "      <th>4</th>\n",
       "      <td>8</td>\n",
       "      <td>11</td>\n",
       "      <td>7</td>\n",
       "      <td>8</td>\n",
       "      <td>10</td>\n",
       "      <td>7</td>\n",
       "      <td>8</td>\n",
       "      <td>1</td>\n",
       "      <td>5</td>\n",
       "      <td>3</td>\n",
       "      <td>2</td>\n",
       "      <td>15</td>\n",
       "      <td>5</td>\n",
       "      <td>3</td>\n",
       "      <td>6</td>\n",
       "      <td>12</td>\n",
       "      <td>5</td>\n",
       "      <td>4</td>\n",
       "      <td>7</td>\n",
       "      <td>1</td>\n",
       "    </tr>\n",
       "  </tbody>\n",
       "</table>\n",
       "</div>"
      ],
      "text/plain": [
       "   behavior_sexualRisk  behavior_eating  behavior_personalHygine  \\\n",
       "0                   10               13                       12   \n",
       "1                   10               11                       11   \n",
       "2                   10               15                        3   \n",
       "3                   10               11                       10   \n",
       "4                    8               11                        7   \n",
       "\n",
       "   intention_aggregation  intention_commitment  attitude_consistency  \\\n",
       "0                      4                     7                     9   \n",
       "1                     10                    14                     7   \n",
       "2                      2                    14                     8   \n",
       "3                     10                    15                     7   \n",
       "4                      8                    10                     7   \n",
       "\n",
       "   attitude_spontaneity  norm_significantPerson  norm_fulfillment  \\\n",
       "0                    10                       1                 8   \n",
       "1                     7                       5                 5   \n",
       "2                    10                       1                 4   \n",
       "3                     7                       1                 5   \n",
       "4                     8                       1                 5   \n",
       "\n",
       "   perception_vulnerability  perception_severity  motivation_strength  \\\n",
       "0                         7                    3                   14   \n",
       "1                         4                    2                   15   \n",
       "2                         7                    2                    7   \n",
       "3                         4                    2                   15   \n",
       "4                         3                    2                   15   \n",
       "\n",
       "   motivation_willingness  socialSupport_emotionality  \\\n",
       "0                       8                           5   \n",
       "1                      13                           7   \n",
       "2                       3                           3   \n",
       "3                      13                           7   \n",
       "4                       5                           3   \n",
       "\n",
       "   socialSupport_appreciation  socialSupport_instrumental  \\\n",
       "0                           7                          12   \n",
       "1                           6                           5   \n",
       "2                           6                          11   \n",
       "3                           4                           4   \n",
       "4                           6                          12   \n",
       "\n",
       "   empowerment_knowledge  empowerment_abilities  empowerment_desires  \\\n",
       "0                     12                     11                    8   \n",
       "1                      5                      4                    4   \n",
       "2                      3                      3                   15   \n",
       "3                      4                      4                    4   \n",
       "4                      5                      4                    7   \n",
       "\n",
       "   ca_cervix  \n",
       "0          1  \n",
       "1          1  \n",
       "2          1  \n",
       "3          1  \n",
       "4          1  "
      ]
     },
     "execution_count": 4,
     "metadata": {},
     "output_type": "execute_result"
    }
   ],
   "source": [
    "data.head()"
   ]
  },
  {
   "cell_type": "code",
   "execution_count": 9,
   "metadata": {},
   "outputs": [
    {
     "name": "stdout",
     "output_type": "stream",
     "text": [
      "accuracy = 0.875\n"
     ]
    }
   ],
   "source": [
    "model = LogisticRegressionScratch()\n",
    "model.fit(X_train, y_train, 10000, 0.001)\n",
    "y_pred = model.predict(X_test)\n",
    "accuracy = accuracy_score(y_true=y_test,y_pred=y_pred)\n",
    "print(f'accuracy = {accuracy}')"
   ]
  },
  {
   "cell_type": "code",
   "execution_count": 10,
   "metadata": {},
   "outputs": [
    {
     "data": {
      "text/plain": [
       "<Figure size 1440x1440 with 0 Axes>"
      ]
     },
     "execution_count": 10,
     "metadata": {},
     "output_type": "execute_result"
    },
    {
     "data": {
      "image/png": "[encoded data removed]",
      "text/plain": [
       "<Figure size 432x288 with 1 Axes>"
      ]
     },
     "metadata": {},
     "output_type": "display_data"
    },
    {
     "data": {
      "text/plain": [
       "<Figure size 1440x1440 with 0 Axes>"
      ]
     },
     "metadata": {},
     "output_type": "display_data"
    }
   ],
   "source": [
    "# for last prediction\n",
    "plt.style.use('seaborn-whitegrid')\n",
    "sns.scatterplot(data = {\"Predicted\":y_pred,\"True\":y_test.tolist()})\n",
    "plt.figure(figsize=(20,20))"
   ]
  },
  {
   "cell_type": "code",
   "execution_count": 11,
   "metadata": {},
   "outputs": [
    {
     "name": "stdout",
     "output_type": "stream",
     "text": [
      "accuracy = 0.875\n"
     ]
    }
   ],
   "source": [
    "from sklearn.linear_model import LogisticRegression\n",
    "logisticRegression = LogisticRegression()\n",
    "logisticRegression.fit(X_train,y_train)\n",
    "predictions = logisticRegression.predict(X_test)\n",
    "score = logisticRegression.score(X_test,y_test)\n",
    "print(f\"accuracy = {score}\")"
   ]
  },
  {
   "cell_type": "code",
   "execution_count": 12,
   "metadata": {},
   "outputs": [
    {
     "data": {
      "text/plain": [
       "<Figure size 1440x1440 with 0 Axes>"
      ]
     },
     "execution_count": 12,
     "metadata": {},
     "output_type": "execute_result"
    },
    {
     "data": {
      "image/png": "[encoded data removed]",
      "text/plain": [
       "<Figure size 432x288 with 1 Axes>"
      ]
     },
     "metadata": {},
     "output_type": "display_data"
    },
    {
     "data": {
      "text/plain": [
       "<Figure size 1440x1440 with 0 Axes>"
      ]
     },
     "metadata": {},
     "output_type": "display_data"
    }
   ],
   "source": [
    "# for last prediction\n",
    "sns.scatterplot(data = {\"Predicted\":predictions,\"True\":y_test.tolist()})\n",
    "plt.figure(figsize=(20,20))"
   ]
  }
 ],
 "metadata": {
  "interpreter": {
   "hash": "916dbcbb3f70747c44a77c7bcd40155683ae19c65e1c03b4aa3499c5328201f1"
  },
  "kernelspec": {
   "display_name": "Python 3.8.10 64-bit",
   "language": "python",
   "name": "python3"
  },
  "language_info": {
   "codemirror_mode": {
    "name": "ipython",
    "version": 3
   },
   "file_extension": ".py",
   "mimetype": "text/x-python",
   "name": "python",
   "nbconvert_exporter": "python",
   "pygments_lexer": "ipython3",
   "version": "3.8.10"
  },
  "orig_nbformat": 4
 },
 "nbformat": 4,
 "nbformat_minor": 2
}
