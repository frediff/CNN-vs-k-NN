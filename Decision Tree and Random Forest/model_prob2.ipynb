{
 "cells": [
  {
   "cell_type": "code",
   "execution_count": 23,
   "id": "7b46da19",
   "metadata": {},
   "outputs": [],
   "source": [
    "import numpy as np\n",
    "from tensorflow.keras.datasets import mnist"
   ]
  },
  {
   "cell_type": "code",
   "execution_count": 24,
   "id": "73ecc807",
   "metadata": {},
   "outputs": [
    {
     "name": "stdout",
     "output_type": "stream",
     "text": [
      "(70000, 784)\n"
     ]
    }
   ],
   "source": [
    "(trainX, trainY), (testX, testY) = mnist.load_data()\n",
    "trainX = trainX.reshape(-1, 28 * 28).astype(\"float32\") / 255.0\n",
    "testX = testX.reshape(-1, 28 * 28).astype(\"float32\") / 255.0\n",
    "\n",
    "\n",
    "#since we have to use 75% data for each image class for training and the rest for testing \n",
    "#and the ration in which the train and test set is splitted by default from mnist is different so, we\n",
    "#merge the entire dataset and split later after grouping data from each image class.\n",
    "\n",
    "dataX = np.concatenate((trainX,testX), axis=0)\n",
    "dataY = np.concatenate((trainY,testY), axis=0)\n",
    "print(dataX.shape)"
   ]
  },
  {
   "cell_type": "code",
   "execution_count": 25,
   "id": "3b93c771",
   "metadata": {},
   "outputs": [],
   "source": [
    "# now we group into different image classes"
   ]
  },
  {
   "cell_type": "code",
   "execution_count": 26,
   "id": "9b82418a",
   "metadata": {},
   "outputs": [],
   "source": [
    "img_cls = [[],[],[],[],[],[],[],[],[],[]]\n",
    "\n",
    "for i in range(70000):\n",
    "    img_cls[int(dataY[i])].append(dataX[i])"
   ]
  },
  {
   "cell_type": "code",
   "execution_count": 27,
   "id": "7e6e5996",
   "metadata": {},
   "outputs": [],
   "source": [
    "# now splitting into 75% train set and 25% test set\n",
    "trainX = []\n",
    "trainY = np.array([])\n",
    "testX = []\n",
    "testY = np.array([])\n",
    "\n",
    "for i in range(10):\n",
    "    l = img_cls[i].__len__()\n",
    "    b = int(l*0.75)\n",
    "    trainX += img_cls[i][0:b]\n",
    "    testX += img_cls[i][b:l]\n",
    "    trainY = np.concatenate((trainY,np.ones(b)*i))\n",
    "    testY = np.concatenate((testY,np.ones(l-b)*i))\n",
    "\n",
    "trainX = np.array(trainX)\n",
    "trainY = np.array(trainY)\n",
    "testX = np.array(testX)\n",
    "testY = np.array(testY)"
   ]
  },
  {
   "cell_type": "code",
   "execution_count": 28,
   "id": "ff7d3987",
   "metadata": {},
   "outputs": [],
   "source": [
    "from sklearn import metrics"
   ]
  },
  {
   "cell_type": "code",
   "execution_count": 29,
   "id": "7f6b9e7c",
   "metadata": {},
   "outputs": [
    {
     "name": "stdout",
     "output_type": "stream",
     "text": [
      "Accuracy for decision tree of depth 20 :  0.8837475007140817\n",
      "Accuracy for decision tree of depth 50 :  0.8810625535561268\n"
     ]
    }
   ],
   "source": [
    "from sklearn.tree import DecisionTreeClassifier\n",
    "# here we see decision tree model\n",
    "\n",
    "# first we do for a decision tree of depth 20\n",
    "model20 = DecisionTreeClassifier(max_depth=20).fit(trainX,trainY)\n",
    "predicted_digit = model20.predict(testX)\n",
    "print(\"Accuracy for decision tree of depth 20 : \",metrics.accuracy_score(testY, predicted_digit))\n",
    "\n",
    "# second we do for a decision tree of depth 50\n",
    "model50 = DecisionTreeClassifier(max_depth=50).fit(trainX,trainY)\n",
    "predicted_digit = model50.predict(testX)\n",
    "print(\"Accuracy for decision tree of depth 50 : \",metrics.accuracy_score(testY, predicted_digit))"
   ]
  },
  {
   "cell_type": "code",
   "execution_count": 30,
   "id": "4ebe0f40",
   "metadata": {},
   "outputs": [
    {
     "name": "stdout",
     "output_type": "stream",
     "text": [
      "Accuracy for random forest :  0.9722936303913168\n"
     ]
    }
   ],
   "source": [
    "from sklearn.ensemble import RandomForestClassifier\n",
    "# here we see random forest classification\n",
    "\n",
    "modelRf = RandomForestClassifier().fit(trainX,trainY)\n",
    "predicted_digit = modelRf.predict(testX)\n",
    "print(\"Accuracy for random forest : \",metrics.accuracy_score(testY, predicted_digit))"
   ]
  },
  {
   "cell_type": "code",
   "execution_count": 31,
   "id": "89ddfeb1",
   "metadata": {},
   "outputs": [],
   "source": [
    "from sklearn.model_selection import cross_val_score"
   ]
  },
  {
   "cell_type": "code",
   "execution_count": 32,
   "id": "bbdd197c",
   "metadata": {},
   "outputs": [
    {
     "name": "stdout",
     "output_type": "stream",
     "text": [
      "----Cross-Validating Decision Tree of Depth 20----\n",
      "Mean Accuracy = 0.8765857142857142\n",
      "Standard Deviation = 0.006307575620163579\n"
     ]
    }
   ],
   "source": [
    "# applying cross validation for decision tree\n",
    "accuracies = cross_val_score(model20, dataX, dataY, cv=10) #10 fold cross validation\n",
    "print(\"----Cross-Validating Decision Tree of Depth 20----\")\n",
    "print(\"Mean Accuracy = \" + str(accuracies.mean()))\n",
    "print(\"Standard Deviation = \" + str(accuracies.std()))"
   ]
  },
  {
   "cell_type": "code",
   "execution_count": 33,
   "id": "dba1e8fc",
   "metadata": {},
   "outputs": [
    {
     "name": "stdout",
     "output_type": "stream",
     "text": [
      "----Cross-Validating Decision Tree of Depth 50----\n",
      "Mean Accuracy = 0.8733285714285716\n",
      "Standard Deviation = 0.006086468766108667\n"
     ]
    }
   ],
   "source": [
    "# applying cross validation for decision tree\n",
    "accuracies = cross_val_score(model50, dataX, dataY, cv=10) #10 fold cross validation\n",
    "print(\"----Cross-Validating Decision Tree of Depth 50----\")\n",
    "print(\"Mean Accuracy = \" + str(accuracies.mean()))\n",
    "print(\"Standard Deviation = \" + str(accuracies.std()))"
   ]
  },
  {
   "cell_type": "code",
   "execution_count": 34,
   "id": "1c6e1892",
   "metadata": {},
   "outputs": [
    {
     "name": "stdout",
     "output_type": "stream",
     "text": [
      "----Cross-Validating Random Forest----\n",
      "Mean Accuracy = 0.9694285714285715\n",
      "Standard Deviation = 0.0034309515548064163\n"
     ]
    }
   ],
   "source": [
    "# applying cross validation for random forest\n",
    "accuracies = cross_val_score(modelRf, dataX, dataY, cv=10) #10 fold cross validation\n",
    "print(\"----Cross-Validating Random Forest----\")\n",
    "print(\"Mean Accuracy = \" + str(accuracies.mean()))\n",
    "print(\"Standard Deviation = \" + str(accuracies.std()))"
   ]
  }
 ],
 "metadata": {
  "kernelspec": {
   "display_name": "Python 3 (ipykernel)",
   "language": "python",
   "name": "python3"
  },
  "language_info": {
   "codemirror_mode": {
    "name": "ipython",
    "version": 3
   },
   "file_extension": ".py",
   "mimetype": "text/x-python",
   "name": "python",
   "nbconvert_exporter": "python",
   "pygments_lexer": "ipython3",
   "version": "3.9.7"
  }
 },
 "nbformat": 4,
 "nbformat_minor": 5
}
